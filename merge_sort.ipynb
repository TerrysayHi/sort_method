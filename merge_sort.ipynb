{
  "nbformat": 4,
  "nbformat_minor": 0,
  "metadata": {
    "colab": {
      "name": "merge_sort.ipynb",
      "version": "0.3.2",
      "provenance": []
    },
    "kernelspec": {
      "name": "python3",
      "display_name": "Python 3"
    }
  },
  "cells": [
    {
      "metadata": {
        "id": "d7Ulb2x_pGDF",
        "colab_type": "code",
        "colab": {}
      },
      "cell_type": "code",
      "source": [
        "import numpy as np"
      ],
      "execution_count": 0,
      "outputs": []
    },
    {
      "metadata": {
        "id": "39Dysnihgu47",
        "colab_type": "code",
        "colab": {}
      },
      "cell_type": "code",
      "source": [
        "def merge_sort_increase(arr):\n",
        "  if len(arr)==1:\n",
        "    return arr\n",
        "  else:\n",
        "    k=int(len(arr)/2)\n",
        "    arr_1=merge_sort_increase(arr[0:k])\n",
        "    arr_2=merge_sort_increase(arr[k:len(arr)])\n",
        "    l_order=[]\n",
        "    i=0\n",
        "    j=0\n",
        "    while(i<len(arr_1) and j<len(arr_2)):\n",
        "      if arr_1[i]>arr_2[j]:\n",
        "        l_order.append(arr_2[j])\n",
        "        j+=1\n",
        "      else:\n",
        "        l_order.append(arr_1[i])\n",
        "        i+=1\n",
        "    l_order.extend(arr_1[i:len(arr_1)])\n",
        "    l_order.extend(arr_2[j:len(arr_2)]) \n",
        "    return l_order"
      ],
      "execution_count": 0,
      "outputs": []
    },
    {
      "metadata": {
        "id": "wl_437XzjOMC",
        "colab_type": "code",
        "colab": {
          "base_uri": "https://localhost:8080/",
          "height": 51
        },
        "outputId": "34c3be3a-b2af-4b01-abb4-6fbf658ae914"
      },
      "cell_type": "code",
      "source": [
        "N=20\n",
        "Seq=list(map(lambda x:int(np.random.rand()*30)+1,range(N)))\n",
        "print(Seq)\n",
        "Seq_order=merge_sort_increase(Seq)\n",
        "print(Seq_order)"
      ],
      "execution_count": 15,
      "outputs": [
        {
          "output_type": "stream",
          "text": [
            "[5, 12, 26, 11, 26, 27, 20, 6, 6, 25, 30, 18, 27, 16, 19, 29, 27, 19, 18, 22]\n",
            "[5, 6, 6, 11, 12, 16, 18, 18, 19, 19, 20, 22, 25, 26, 26, 27, 27, 27, 29, 30]\n"
          ],
          "name": "stdout"
        }
      ]
    },
    {
      "metadata": {
        "id": "dDM1pggljPiP",
        "colab_type": "code",
        "colab": {}
      },
      "cell_type": "code",
      "source": [
        "def merge_sort_decrease(arr):\n",
        "  if len(arr)==1:\n",
        "    return arr\n",
        "  else:\n",
        "    k=int(len(arr)/2)\n",
        "    arr_1=merge_sort_decrease(arr[0:k])\n",
        "    arr_2=merge_sort_decrease(arr[k:len(arr)])\n",
        "    l_order=[]\n",
        "    i=0\n",
        "    j=0\n",
        "    while(i<len(arr_1) and j<len(arr_2)):\n",
        "      if arr_1[i]<arr_2[j]:\n",
        "        l_order.append(arr_2[j])\n",
        "        j+=1\n",
        "      else:\n",
        "        l_order.append(arr_1[i])\n",
        "        i+=1\n",
        "    l_order.extend(arr_1[i:len(arr_1)])\n",
        "    l_order.extend(arr_2[j:len(arr_2)]) \n",
        "    return l_order"
      ],
      "execution_count": 0,
      "outputs": []
    },
    {
      "metadata": {
        "id": "FLmn15anqA-Z",
        "colab_type": "code",
        "colab": {
          "base_uri": "https://localhost:8080/",
          "height": 34
        },
        "outputId": "8de15805-d2e5-485e-f001-acd1a9f22544"
      },
      "cell_type": "code",
      "source": [
        "Seq_order=merge_sort_decrease(Seq)\n",
        "print(Seq_order)"
      ],
      "execution_count": 19,
      "outputs": [
        {
          "output_type": "stream",
          "text": [
            "[30, 29, 27, 27, 27, 26, 26, 25, 22, 20, 19, 19, 18, 18, 16, 12, 11, 6, 6, 5]\n"
          ],
          "name": "stdout"
        }
      ]
    },
    {
      "metadata": {
        "id": "1CTM2Mh6qDmx",
        "colab_type": "code",
        "colab": {}
      },
      "cell_type": "code",
      "source": [
        ""
      ],
      "execution_count": 0,
      "outputs": []
    }
  ]
}