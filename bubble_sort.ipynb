{
  "nbformat": 4,
  "nbformat_minor": 0,
  "metadata": {
    "colab": {
      "name": "bubble_sort.ipynb",
      "version": "0.3.2",
      "provenance": [],
      "collapsed_sections": []
    },
    "kernelspec": {
      "name": "python3",
      "display_name": "Python 3"
    }
  },
  "cells": [
    {
      "metadata": {
        "id": "lnm9gOj-r0uD",
        "colab_type": "code",
        "colab": {}
      },
      "cell_type": "code",
      "source": [
        "import numpy as np"
      ],
      "execution_count": 0,
      "outputs": []
    },
    {
      "metadata": {
        "id": "cNQYDxxfrm5n",
        "colab_type": "code",
        "colab": {}
      },
      "cell_type": "code",
      "source": [
        "def bubble_sort(arr):\n",
        "  for i in range(len(arr)-1):\n",
        "    for j in range(len(arr)-1,i,-1):\n",
        "      if arr[j]<arr[j-1]:\n",
        "        arr[j],arr[j-1]=arr[j-1],arr[j]\n",
        "  return arr"
      ],
      "execution_count": 0,
      "outputs": []
    },
    {
      "metadata": {
        "id": "zmtaPJE-srjh",
        "colab_type": "code",
        "colab": {
          "base_uri": "https://localhost:8080/",
          "height": 51
        },
        "outputId": "b58fb8b4-eb64-4edc-ebd9-340d716426c3"
      },
      "cell_type": "code",
      "source": [
        "N=20\n",
        "l_disordered=np.array(list(map(lambda x:int(25*np.random.rand()+1),range(N))))\n",
        "print(l_disordered)\n",
        "l_order=bubble_sort(l_disordered)\n",
        "print(l_order)"
      ],
      "execution_count": 11,
      "outputs": [
        {
          "output_type": "stream",
          "text": [
            "[ 3 24 21  9  5 10 25 10 20 22  4 24 18 15 16 10  1  8 25 17]\n",
            "[ 1  3  4  5  8  9 10 10 10 15 16 17 18 20 21 22 24 24 25 25]\n"
          ],
          "name": "stdout"
        }
      ]
    }
  ]
}