{
  "nbformat": 4,
  "nbformat_minor": 0,
  "metadata": {
    "colab": {
      "name": "insertion_sort.ipynb",
      "version": "0.3.2",
      "provenance": [],
      "collapsed_sections": []
    }
  },
  "cells": [
    {
      "metadata": {
        "id": "3pCf-ZyN3NMt",
        "colab_type": "text"
      },
      "cell_type": "markdown",
      "source": [
        "###Insertion Sort"
      ]
    },
    {
      "metadata": {
        "id": "Xp-ZGlUp3e_P",
        "colab_type": "text"
      },
      "cell_type": "markdown",
      "source": [
        "An algorithm sort the disordered sequence. Insert each element of disordered sequence into an ordered sequence."
      ]
    },
    {
      "metadata": {
        "id": "nHbs7M2T3Zjw",
        "colab_type": "text"
      },
      "cell_type": "markdown",
      "source": [
        "Increasing Order"
      ]
    },
    {
      "metadata": {
        "id": "C2DuOHb-7JKu",
        "colab_type": "code",
        "colab": {
          "base_uri": "https://localhost:8080/",
          "height": 51
        },
        "outputId": "37f053bf-d167-453d-f373-37fcada09997"
      },
      "cell_type": "code",
      "source": [
        "l=list(range(10,-1,-1))\n",
        "print(l)\n",
        "l[3:4]"
      ],
      "execution_count": 6,
      "outputs": [
        {
          "output_type": "stream",
          "text": [
            "[10, 9, 8, 7, 6, 5, 4, 3, 2, 1, 0]\n"
          ],
          "name": "stdout"
        },
        {
          "output_type": "execute_result",
          "data": {
            "text/plain": [
              "[7]"
            ]
          },
          "metadata": {
            "tags": []
          },
          "execution_count": 6
        }
      ]
    },
    {
      "metadata": {
        "id": "1pFt_Vnm4X4Y",
        "colab_type": "code",
        "colab": {}
      },
      "cell_type": "code",
      "source": [
        "import numpy as np"
      ],
      "execution_count": 0,
      "outputs": []
    },
    {
      "metadata": {
        "id": "fv5UQ4sY4ZF_",
        "colab_type": "code",
        "colab": {}
      },
      "cell_type": "code",
      "source": [
        "def insert_sort_increasing(arr):\n",
        "  for i in range(1,len(arr)):\n",
        "    k=0\n",
        "    x=arr[i]\n",
        "    for j in range(i-1,-1,-1):\n",
        "      if arr[i]>arr[j]:\n",
        "        k=j+1\n",
        "        break\n",
        "    arr[k+1:i+1]=arr[k:i]\n",
        "    arr[k]=x\n",
        "  return arr"
      ],
      "execution_count": 0,
      "outputs": []
    },
    {
      "metadata": {
        "id": "yJ7h1PZN2zgm",
        "colab_type": "code",
        "colab": {
          "base_uri": "https://localhost:8080/",
          "height": 51
        },
        "outputId": "4f54b9b6-49e8-47e3-a0fe-3ef0be706c34"
      },
      "cell_type": "code",
      "source": [
        "N=20\n",
        "Seq=list(map(lambda x:int(np.random.rand()*30)+1,range(N)))\n",
        "print(Seq)\n",
        "Seq_order=insert_sort_increasing(Seq)\n",
        "print(Seq_order)"
      ],
      "execution_count": 27,
      "outputs": [
        {
          "output_type": "stream",
          "text": [
            "[25, 16, 19, 22, 5, 24, 5, 6, 18, 14, 18, 7, 11, 25, 19, 25, 3, 25, 11, 18]\n",
            "[3, 5, 5, 6, 7, 11, 11, 14, 16, 18, 18, 18, 19, 19, 22, 24, 25, 25, 25, 25]\n"
          ],
          "name": "stdout"
        }
      ]
    },
    {
      "metadata": {
        "id": "KKT1985_KiHH",
        "colab_type": "text"
      },
      "cell_type": "markdown",
      "source": [
        "Decreasing Order"
      ]
    },
    {
      "metadata": {
        "id": "jDX60wERKB9l",
        "colab_type": "code",
        "colab": {}
      },
      "cell_type": "code",
      "source": [
        "def insert_sort_decreasing(arr):\n",
        "  for i in range(1,len(arr)):\n",
        "    k=0\n",
        "    x=arr[i]\n",
        "    for j in range(i-1,-1,-1):\n",
        "      if arr[i]<arr[j]:\n",
        "        k=j+1\n",
        "        break\n",
        "    arr[k+1:i+1]=arr[k:i]\n",
        "    arr[k]=x\n",
        "  return arr"
      ],
      "execution_count": 0,
      "outputs": []
    },
    {
      "metadata": {
        "id": "aETNUv45KFdF",
        "colab_type": "code",
        "colab": {
          "base_uri": "https://localhost:8080/",
          "height": 51
        },
        "outputId": "5536853c-d83a-4eb0-ccb7-97ee0982b524"
      },
      "cell_type": "code",
      "source": [
        "N=20\n",
        "Seq=list(map(lambda x:int(np.random.rand()*30)+1,range(N)))\n",
        "print(Seq)\n",
        "Seq_order=insert_sort_decreasing(Seq)\n",
        "print(Seq_order)"
      ],
      "execution_count": 30,
      "outputs": [
        {
          "output_type": "stream",
          "text": [
            "[28, 29, 18, 5, 29, 7, 19, 7, 30, 18, 23, 10, 20, 16, 8, 8, 30, 11, 3, 26]\n",
            "[30, 30, 29, 29, 28, 26, 23, 20, 19, 18, 18, 16, 11, 10, 8, 8, 7, 7, 5, 3]\n"
          ],
          "name": "stdout"
        }
      ]
    },
    {
      "metadata": {
        "id": "1DH-8GcYM4fD",
        "colab_type": "code",
        "colab": {
          "base_uri": "https://localhost:8080/",
          "height": 51
        },
        "outputId": "1cf21a2a-2a17-4d42-e6e6-dcd57b601fd0"
      },
      "cell_type": "code",
      "source": [
        "l=[31,41,59,26,41,58]\n",
        "l_decrease=insert_sort_decreasing(l)\n",
        "print(l_decrease)\n",
        "l_increase=insert_sort_increasing(l)\n",
        "print(l_increase)"
      ],
      "execution_count": 31,
      "outputs": [
        {
          "output_type": "stream",
          "text": [
            "[59, 58, 41, 41, 31, 26]\n",
            "[26, 31, 41, 41, 58, 59]\n"
          ],
          "name": "stdout"
        }
      ]
    },
    {
      "metadata": {
        "id": "uJMb6t31NRfj",
        "colab_type": "code",
        "colab": {}
      },
      "cell_type": "code",
      "source": [
        ""
      ],
      "execution_count": 0,
      "outputs": []
    }
  ]
}